{
 "cells": [
  {
   "cell_type": "code",
   "execution_count": 1,
   "metadata": {},
   "outputs": [],
   "source": [
    "import tensorflow as tf\n",
    "import numpy as np\n",
    "import pandas as pd\n",
    "import cv2\n",
    "import os\n",
    "import matplotlib.pyplot as plt\n",
    "from tensorflow.keras.models import Sequential\n",
    "from tensorflow.keras.layers import Dense, Dropout, Activation, Flatten, Conv2D, MaxPooling2D,BatchNormalization\n",
    "from tensorflow.keras.callbacks import TensorBoard\n",
    "from tensorflow.keras.preprocessing.image import ImageDataGenerator\n",
    "from tensorflow.keras.callbacks import ReduceLROnPlateau\n",
    "import time\n",
    "import random\n",
    "import pickle"
   ]
  },
  {
   "cell_type": "code",
   "execution_count": 2,
   "metadata": {},
   "outputs": [],
   "source": [
    "NAME = \"Chest-Xray-Pneumonia-cnn-64x2-{}\".format(int(time.time()))\n",
    "\n",
    "tensorboard = TensorBoard(log_dir='logs/{}'.format(NAME))"
   ]
  },
  {
   "cell_type": "code",
   "execution_count": 3,
   "metadata": {},
   "outputs": [],
   "source": [
    "DATADIR = \"data/data/train\"\n",
    "DATADIRTEST = \"data/data/test\"\n",
    "DATADIRVAL = \"data/data/val/\"\n",
    "\n",
    "CATEGORIES = ['NORMAL','PNEUMONIA']\n",
    "IMG_SIZE = 150\n",
    "\n",
    "def create_data(directory):\n",
    "    data = []\n",
    "    X = []\n",
    "    y= []\n",
    "    random.seed(42)\n",
    "    for category in CATEGORIES:\n",
    "        path = os.path.join(directory, category) # path to normal and pneumonia dir\n",
    "        class_num = CATEGORIES.index(category)\n",
    "        for img in os.listdir(path):\n",
    "            try:\n",
    "                img_array = cv2.imread(os.path.join(path,img),cv2.IMREAD_GRAYSCALE)\n",
    "                new_array = cv2.resize(img_array,(IMG_SIZE,IMG_SIZE))\n",
    "                data.append([new_array,class_num])\n",
    "            except Exception as e:\n",
    "                pass\n",
    "    random.shuffle(data)\n",
    "    for features, label in data:\n",
    "        X.append(features)\n",
    "        y.append(label)\n",
    "    X = np.array(X).reshape(-1,IMG_SIZE,IMG_SIZE,1)\n",
    "    y = np.array(y)\n",
    "    return X,y\n",
    "            \n",
    "X_train,y_train = create_data(DATADIR)\n",
    "\n",
    "X_val,y_val = create_data(DATADIRVAL)\n",
    "\n",
    "X_test,y_test = create_data(DATADIRTEST)"
   ]
  },
  {
   "cell_type": "code",
   "execution_count": 4,
   "metadata": {},
   "outputs": [
    {
     "name": "stdout",
     "output_type": "stream",
     "text": [
      "Train pneumonia dist: 74.29064417177914\n",
      "Val pneumonia dist: 50.0\n",
      "Test pneumonia dist: 62.5\n"
     ]
    }
   ],
   "source": [
    "# i will try to balance the distribution in validation dataset \n",
    "\n",
    "# check distribution of y in test and train set\n",
    "train_dist = np.sum(y_train) / len(y_train) * 100\n",
    "val_dist = np.sum(y_val) / len(y_val) * 100\n",
    "test_dist = np.sum(y_test) / len(y_test) * 100\n",
    "print(\"Train pneumonia dist: {}\".format(train_dist))\n",
    "print(\"Val pneumonia dist: {}\".format(val_dist))\n",
    "print(\"Test pneumonia dist: {}\".format(test_dist))"
   ]
  },
  {
   "cell_type": "code",
   "execution_count": 14,
   "metadata": {},
   "outputs": [
    {
     "name": "stdout",
     "output_type": "stream",
     "text": [
      "Model: \"sequential_1\"\n",
      "_________________________________________________________________\n",
      "Layer (type)                 Output Shape              Param #   \n",
      "=================================================================\n",
      "conv2d_4 (Conv2D)            (None, 150, 150, 32)      320       \n",
      "_________________________________________________________________\n",
      "batch_normalization_4 (Batch (None, 150, 150, 32)      128       \n",
      "_________________________________________________________________\n",
      "max_pooling2d_4 (MaxPooling2 (None, 75, 75, 32)        0         \n",
      "_________________________________________________________________\n",
      "conv2d_5 (Conv2D)            (None, 75, 75, 64)        18496     \n",
      "_________________________________________________________________\n",
      "batch_normalization_5 (Batch (None, 75, 75, 64)        256       \n",
      "_________________________________________________________________\n",
      "dropout_4 (Dropout)          (None, 75, 75, 64)        0         \n",
      "_________________________________________________________________\n",
      "max_pooling2d_5 (MaxPooling2 (None, 38, 38, 64)        0         \n",
      "_________________________________________________________________\n",
      "conv2d_6 (Conv2D)            (None, 38, 38, 128)       73856     \n",
      "_________________________________________________________________\n",
      "batch_normalization_6 (Batch (None, 38, 38, 128)       512       \n",
      "_________________________________________________________________\n",
      "dropout_5 (Dropout)          (None, 38, 38, 128)       0         \n",
      "_________________________________________________________________\n",
      "max_pooling2d_6 (MaxPooling2 (None, 19, 19, 128)       0         \n",
      "_________________________________________________________________\n",
      "conv2d_7 (Conv2D)            (None, 19, 19, 256)       295168    \n",
      "_________________________________________________________________\n",
      "batch_normalization_7 (Batch (None, 19, 19, 256)       1024      \n",
      "_________________________________________________________________\n",
      "dropout_6 (Dropout)          (None, 19, 19, 256)       0         \n",
      "_________________________________________________________________\n",
      "max_pooling2d_7 (MaxPooling2 (None, 10, 10, 256)       0         \n",
      "_________________________________________________________________\n",
      "flatten_1 (Flatten)          (None, 25600)             0         \n",
      "_________________________________________________________________\n",
      "dense_2 (Dense)              (None, 128)               3276928   \n",
      "_________________________________________________________________\n",
      "dropout_7 (Dropout)          (None, 128)               0         \n",
      "_________________________________________________________________\n",
      "dense_3 (Dense)              (None, 1)                 129       \n",
      "=================================================================\n",
      "Total params: 3,666,817\n",
      "Trainable params: 3,665,857\n",
      "Non-trainable params: 960\n",
      "_________________________________________________________________\n",
      "Epoch 1/10\n",
      "  2/326 [..............................] - ETA: 8:17 - loss: 3.6380 - accuracy: 0.5938WARNING:tensorflow:Callbacks method `on_train_batch_end` is slow compared to the batch time (batch time: 0.6602s vs `on_train_batch_end` time: 2.4016s). Check your callbacks.\n",
      "326/326 [==============================] - 282s 865ms/step - loss: 0.5620 - accuracy: 0.8595 - val_loss: 58.5174 - val_accuracy: 0.5000\n",
      "Epoch 2/10\n",
      "326/326 [==============================] - ETA: 0s - loss: 0.2392 - accuracy: 0.9034\n",
      "Epoch 00002: ReduceLROnPlateau reducing learning rate to 0.0003000000142492354.\n",
      "326/326 [==============================] - 273s 836ms/step - loss: 0.2392 - accuracy: 0.9034 - val_loss: 0.7068 - val_accuracy: 0.5000\n",
      "Epoch 3/10\n",
      "326/326 [==============================] - ETA: 0s - loss: 0.1963 - accuracy: 0.9281\n",
      "Epoch 00003: ReduceLROnPlateau reducing learning rate to 9.000000427477062e-05.\n",
      "326/326 [==============================] - 279s 856ms/step - loss: 0.1963 - accuracy: 0.9281 - val_loss: 1.1626 - val_accuracy: 0.5000\n",
      "Epoch 4/10\n",
      "326/326 [==============================] - ETA: 0s - loss: 0.1689 - accuracy: 0.9387\n",
      "Epoch 00004: ReduceLROnPlateau reducing learning rate to 2.700000040931627e-05.\n",
      "326/326 [==============================] - 275s 843ms/step - loss: 0.1689 - accuracy: 0.9387 - val_loss: 37.1044 - val_accuracy: 0.5000\n",
      "Epoch 5/10\n",
      "326/326 [==============================] - ETA: 0s - loss: 0.1647 - accuracy: 0.9394\n",
      "Epoch 00005: ReduceLROnPlateau reducing learning rate to 8.100000013655517e-06.\n",
      "326/326 [==============================] - 280s 860ms/step - loss: 0.1647 - accuracy: 0.9394 - val_loss: 12.8837 - val_accuracy: 0.5000\n",
      "Epoch 6/10\n",
      "326/326 [==============================] - ETA: 0s - loss: 0.1570 - accuracy: 0.9440\n",
      "Epoch 00006: ReduceLROnPlateau reducing learning rate to 2.429999949526973e-06.\n",
      "326/326 [==============================] - 247s 758ms/step - loss: 0.1570 - accuracy: 0.9440 - val_loss: 5.1173 - val_accuracy: 0.5000\n",
      "Epoch 7/10\n",
      "326/326 [==============================] - ETA: 0s - loss: 0.1539 - accuracy: 0.9448\n",
      "Epoch 00007: ReduceLROnPlateau reducing learning rate to 1e-06.\n",
      "326/326 [==============================] - 253s 777ms/step - loss: 0.1539 - accuracy: 0.9448 - val_loss: 6.0308 - val_accuracy: 0.5000\n",
      "Epoch 8/10\n",
      "326/326 [==============================] - 257s 788ms/step - loss: 0.1605 - accuracy: 0.9448 - val_loss: 6.8749 - val_accuracy: 0.5000\n",
      "Epoch 9/10\n",
      "326/326 [==============================] - 247s 758ms/step - loss: 0.1659 - accuracy: 0.9425 - val_loss: 6.0879 - val_accuracy: 0.5000\n",
      "Epoch 10/10\n",
      "326/326 [==============================] - 262s 802ms/step - loss: 0.1602 - accuracy: 0.9433 - val_loss: 6.4357 - val_accuracy: 0.5000\n"
     ]
    }
   ],
   "source": [
    "X_train = X_train / 255.0 # normalize data dividing by maximum (in this case we`re working with images so minimum and max are 0 and 255)\n",
    "X_val = X_val / 255\n",
    "X_test = X_test / 255\n",
    "\n",
    "# With data augmentation to prevent overfitting and handling the imbalance in dataset\n",
    "\n",
    "datagen = ImageDataGenerator(\n",
    "        featurewise_center=False,  # set input mean to 0 over the dataset\n",
    "        samplewise_center=False,  # set each sample mean to 0\n",
    "        featurewise_std_normalization=False,  # divide inputs by std of the dataset\n",
    "        samplewise_std_normalization=False,  # divide each input by its std\n",
    "        zca_whitening=False,  # apply ZCA whitening\n",
    "        rotation_range = 30,  # randomly rotate images in the range (degrees, 0 to 180)\n",
    "        zoom_range = 0.2, # Randomly zoom image \n",
    "        width_shift_range=0.1,  # randomly shift images horizontally (fraction of total width)\n",
    "        height_shift_range=0.1,  # randomly shift images vertically (fraction of total height)\n",
    "        horizontal_flip = True,  # randomly flip images\n",
    "        vertical_flip=False)  # randomly flip images\n",
    "\n",
    "datagen.fit(X_train)\n",
    "\n",
    "model = Sequential()\n",
    "#input layer\n",
    "model.add(Conv2D(32,(3,3),padding='same',strides=1, activation='relu',input_shape=X_train.shape[1:]))\n",
    "model.add(BatchNormalization())\n",
    "model.add(MaxPooling2D(pool_size = (2,2),strides=2, padding='same'))\n",
    "\n",
    "#layer\n",
    "model.add(Conv2D(64,(3,3),padding='same',strides=1, activation='relu'))\n",
    "model.add(BatchNormalization())\n",
    "model.add(Dropout(0.25))\n",
    "model.add(MaxPooling2D(pool_size = (2,2),strides=2, padding='same'))\n",
    "\n",
    "#layer\n",
    "model.add(Conv2D(128,(3,3),padding='same',strides=1, activation='relu'))\n",
    "model.add(BatchNormalization())\n",
    "model.add(Dropout(0.25))\n",
    "model.add(MaxPooling2D(pool_size = (2,2),strides=2, padding='same'))\n",
    "\n",
    "#layer\n",
    "model.add(Conv2D(256,(3,3),padding='same',strides=1, activation='relu'))\n",
    "model.add(BatchNormalization())\n",
    "model.add(Dropout(0.25))\n",
    "model.add(MaxPooling2D(pool_size = (2,2),strides=2, padding='same'))\n",
    "\n",
    "model.add(Flatten())\n",
    "\n",
    "#layer\n",
    "model.add(Dense(128,activation='relu'))\n",
    "model.add(Dropout(0.25))\n",
    "\n",
    "#output layer\n",
    "model.add(Dense(1,activation='sigmoid'))\n",
    "\n",
    "model.compile(loss='binary_crossentropy',optimizer='adam',metrics=['accuracy'])\n",
    "\n",
    "model.summary()\n",
    "\n",
    "learning_rate_reduction = ReduceLROnPlateau(monitor='val_accuracy', patience = 1, verbose=1,factor=0.3, min_lr=0.000001)\n",
    "\n",
    "history = model.fit(datagen.flow(X_train,y_train,batch_size=16),steps_per_epoch=len(X_train)/16,epochs=10,validation_data=datagen.flow(X_val,y_val),callbacks=[tensorboard,learning_rate_reduction])\n"
   ]
  },
  {
   "cell_type": "code",
   "execution_count": 17,
   "metadata": {},
   "outputs": [
    {
     "name": "stdout",
     "output_type": "stream",
     "text": [
      "dict_keys(['loss', 'accuracy', 'val_loss', 'val_accuracy', 'lr'])\n"
     ]
    },
    {
     "data": {
      "image/png": "[encoded data removed]",
      "text/plain": [
       "<Figure size 432x288 with 1 Axes>"
      ]
     },
     "metadata": {
      "needs_background": "light"
     },
     "output_type": "display_data"
    },
    {
     "data": {
      "image/png": "[encoded data removed]",
      "text/plain": [
       "<Figure size 432x288 with 1 Axes>"
      ]
     },
     "metadata": {
      "needs_background": "light"
     },
     "output_type": "display_data"
    }
   ],
   "source": [
    "print(history.history.keys())\n",
    "#  \"Accuracy\"\n",
    "plt.plot(history.history['accuracy'])\n",
    "plt.plot(history.history['val_accuracy'])\n",
    "plt.title('model accuracy')\n",
    "plt.ylabel('accuracy')\n",
    "plt.xlabel('epoch')\n",
    "plt.legend(['train', 'validation'], loc='upper left')\n",
    "plt.show()\n",
    "# \"Loss\"\n",
    "plt.plot(history.history['loss'])\n",
    "plt.plot(history.history['val_loss'])\n",
    "plt.title('model loss')\n",
    "plt.ylabel('loss')\n",
    "plt.xlabel('epoch')\n",
    "plt.legend(['train', 'validation'], loc='upper left')\n",
    "plt.show()"
   ]
  },
  {
   "cell_type": "code",
   "execution_count": 18,
   "metadata": {},
   "outputs": [
    {
     "name": "stdout",
     "output_type": "stream",
     "text": [
      "Evaluate on test data\n",
      "20/20 [==============================] - 3s 144ms/step - loss: 0.6380 - accuracy: 0.8958\n",
      "test loss, test acc: [0.6380187273025513, 0.8958333134651184]\n"
     ]
    }
   ],
   "source": [
    "# test model with validation images\n",
    "print(\"Evaluate on test data\")\n",
    "results = model.evaluate(X_test, y_test)\n",
    "print(\"test loss, test acc:\", results)"
   ]
  },
  {
   "cell_type": "code",
   "execution_count": 13,
   "metadata": {},
   "outputs": [
    {
     "name": "stdout",
     "output_type": "stream",
     "text": [
      "INFO:tensorflow:Assets written to: BESTMODEL\\assets\n"
     ]
    }
   ],
   "source": [
    "model.save('BESTMODEL')"
   ]
  }
 ],
 "metadata": {
  "kernelspec": {
   "display_name": "Python 3",
   "language": "python",
   "name": "python3"
  },
  "language_info": {
   "codemirror_mode": {
    "name": "ipython",
    "version": 3
   },
   "file_extension": ".py",
   "mimetype": "text/x-python",
   "name": "python",
   "nbconvert_exporter": "python",
   "pygments_lexer": "ipython3",
   "version": "3.8.2"
  }
 },
 "nbformat": 4,
 "nbformat_minor": 4
}
