{
 "cells": [
  {
   "cell_type": "code",
   "execution_count": 152,
   "metadata": {},
   "outputs": [],
   "source": [
    "import pandas as pd\n",
    "import numpy as np\n",
    "import seaborn as sns\n",
    "import matplotlib.pyplot as plt\n",
    "from sklearn.model_selection import train_test_split\n",
    "from sklearn.linear_model import SGDRegressor,ElasticNet,Ridge\n",
    "from sklearn.ensemble import RandomForestRegressor\n",
    "from sklearn.preprocessing import Normalizer\n",
    "from sklearn.metrics import mean_squared_error,mean_absolute_error,r2_score\n",
    "%matplotlib inline"
   ]
  },
  {
   "cell_type": "code",
   "execution_count": 153,
   "metadata": {},
   "outputs": [],
   "source": [
    "df = pd.read_csv('data/data.csv')"
   ]
  },
  {
   "cell_type": "markdown",
   "metadata": {},
   "source": [
    "# Data Cleaning and Formatting"
   ]
  },
  {
   "cell_type": "code",
   "execution_count": 154,
   "metadata": {},
   "outputs": [
    {
     "data": {
      "text/html": [
       "<div>\n",
       "<style scoped>\n",
       "    .dataframe tbody tr th:only-of-type {\n",
       "        vertical-align: middle;\n",
       "    }\n",
       "\n",
       "    .dataframe tbody tr th {\n",
       "        vertical-align: top;\n",
       "    }\n",
       "\n",
       "    .dataframe thead th {\n",
       "        text-align: right;\n",
       "    }\n",
       "</style>\n",
       "<table border=\"1\" class=\"dataframe\">\n",
       "  <thead>\n",
       "    <tr style=\"text-align: right;\">\n",
       "      <th></th>\n",
       "      <th>id</th>\n",
       "      <th>date</th>\n",
       "      <th>price</th>\n",
       "      <th>bedrooms</th>\n",
       "      <th>bathrooms</th>\n",
       "      <th>sqft_living</th>\n",
       "      <th>sqft_lot</th>\n",
       "      <th>floors</th>\n",
       "      <th>waterfront</th>\n",
       "      <th>view</th>\n",
       "      <th>...</th>\n",
       "      <th>grade</th>\n",
       "      <th>sqft_above</th>\n",
       "      <th>sqft_basement</th>\n",
       "      <th>yr_built</th>\n",
       "      <th>yr_renovated</th>\n",
       "      <th>zipcode</th>\n",
       "      <th>lat</th>\n",
       "      <th>long</th>\n",
       "      <th>sqft_living15</th>\n",
       "      <th>sqft_lot15</th>\n",
       "    </tr>\n",
       "  </thead>\n",
       "  <tbody>\n",
       "    <tr>\n",
       "      <th>0</th>\n",
       "      <td>7129300520</td>\n",
       "      <td>20141013T000000</td>\n",
       "      <td>221900.0</td>\n",
       "      <td>3</td>\n",
       "      <td>1.00</td>\n",
       "      <td>1180</td>\n",
       "      <td>5650</td>\n",
       "      <td>1.0</td>\n",
       "      <td>0</td>\n",
       "      <td>0</td>\n",
       "      <td>...</td>\n",
       "      <td>7</td>\n",
       "      <td>1180</td>\n",
       "      <td>0</td>\n",
       "      <td>1955</td>\n",
       "      <td>0</td>\n",
       "      <td>98178</td>\n",
       "      <td>47.5112</td>\n",
       "      <td>-122.257</td>\n",
       "      <td>1340</td>\n",
       "      <td>5650</td>\n",
       "    </tr>\n",
       "    <tr>\n",
       "      <th>1</th>\n",
       "      <td>6414100192</td>\n",
       "      <td>20141209T000000</td>\n",
       "      <td>538000.0</td>\n",
       "      <td>3</td>\n",
       "      <td>2.25</td>\n",
       "      <td>2570</td>\n",
       "      <td>7242</td>\n",
       "      <td>2.0</td>\n",
       "      <td>0</td>\n",
       "      <td>0</td>\n",
       "      <td>...</td>\n",
       "      <td>7</td>\n",
       "      <td>2170</td>\n",
       "      <td>400</td>\n",
       "      <td>1951</td>\n",
       "      <td>1991</td>\n",
       "      <td>98125</td>\n",
       "      <td>47.7210</td>\n",
       "      <td>-122.319</td>\n",
       "      <td>1690</td>\n",
       "      <td>7639</td>\n",
       "    </tr>\n",
       "    <tr>\n",
       "      <th>2</th>\n",
       "      <td>5631500400</td>\n",
       "      <td>20150225T000000</td>\n",
       "      <td>180000.0</td>\n",
       "      <td>2</td>\n",
       "      <td>1.00</td>\n",
       "      <td>770</td>\n",
       "      <td>10000</td>\n",
       "      <td>1.0</td>\n",
       "      <td>0</td>\n",
       "      <td>0</td>\n",
       "      <td>...</td>\n",
       "      <td>6</td>\n",
       "      <td>770</td>\n",
       "      <td>0</td>\n",
       "      <td>1933</td>\n",
       "      <td>0</td>\n",
       "      <td>98028</td>\n",
       "      <td>47.7379</td>\n",
       "      <td>-122.233</td>\n",
       "      <td>2720</td>\n",
       "      <td>8062</td>\n",
       "    </tr>\n",
       "    <tr>\n",
       "      <th>3</th>\n",
       "      <td>2487200875</td>\n",
       "      <td>20141209T000000</td>\n",
       "      <td>604000.0</td>\n",
       "      <td>4</td>\n",
       "      <td>3.00</td>\n",
       "      <td>1960</td>\n",
       "      <td>5000</td>\n",
       "      <td>1.0</td>\n",
       "      <td>0</td>\n",
       "      <td>0</td>\n",
       "      <td>...</td>\n",
       "      <td>7</td>\n",
       "      <td>1050</td>\n",
       "      <td>910</td>\n",
       "      <td>1965</td>\n",
       "      <td>0</td>\n",
       "      <td>98136</td>\n",
       "      <td>47.5208</td>\n",
       "      <td>-122.393</td>\n",
       "      <td>1360</td>\n",
       "      <td>5000</td>\n",
       "    </tr>\n",
       "    <tr>\n",
       "      <th>4</th>\n",
       "      <td>1954400510</td>\n",
       "      <td>20150218T000000</td>\n",
       "      <td>510000.0</td>\n",
       "      <td>3</td>\n",
       "      <td>2.00</td>\n",
       "      <td>1680</td>\n",
       "      <td>8080</td>\n",
       "      <td>1.0</td>\n",
       "      <td>0</td>\n",
       "      <td>0</td>\n",
       "      <td>...</td>\n",
       "      <td>8</td>\n",
       "      <td>1680</td>\n",
       "      <td>0</td>\n",
       "      <td>1987</td>\n",
       "      <td>0</td>\n",
       "      <td>98074</td>\n",
       "      <td>47.6168</td>\n",
       "      <td>-122.045</td>\n",
       "      <td>1800</td>\n",
       "      <td>7503</td>\n",
       "    </tr>\n",
       "  </tbody>\n",
       "</table>\n",
       "<p>5 rows × 21 columns</p>\n",
       "</div>"
      ],
      "text/plain": [
       "           id             date     price  bedrooms  bathrooms  sqft_living  \\\n",
       "0  7129300520  20141013T000000  221900.0         3       1.00         1180   \n",
       "1  6414100192  20141209T000000  538000.0         3       2.25         2570   \n",
       "2  5631500400  20150225T000000  180000.0         2       1.00          770   \n",
       "3  2487200875  20141209T000000  604000.0         4       3.00         1960   \n",
       "4  1954400510  20150218T000000  510000.0         3       2.00         1680   \n",
       "\n",
       "   sqft_lot  floors  waterfront  view  ...  grade  sqft_above  sqft_basement  \\\n",
       "0      5650     1.0           0     0  ...      7        1180              0   \n",
       "1      7242     2.0           0     0  ...      7        2170            400   \n",
       "2     10000     1.0           0     0  ...      6         770              0   \n",
       "3      5000     1.0           0     0  ...      7        1050            910   \n",
       "4      8080     1.0           0     0  ...      8        1680              0   \n",
       "\n",
       "   yr_built  yr_renovated  zipcode      lat     long  sqft_living15  \\\n",
       "0      1955             0    98178  47.5112 -122.257           1340   \n",
       "1      1951          1991    98125  47.7210 -122.319           1690   \n",
       "2      1933             0    98028  47.7379 -122.233           2720   \n",
       "3      1965             0    98136  47.5208 -122.393           1360   \n",
       "4      1987             0    98074  47.6168 -122.045           1800   \n",
       "\n",
       "   sqft_lot15  \n",
       "0        5650  \n",
       "1        7639  \n",
       "2        8062  \n",
       "3        5000  \n",
       "4        7503  \n",
       "\n",
       "[5 rows x 21 columns]"
      ]
     },
     "execution_count": 154,
     "metadata": {},
     "output_type": "execute_result"
    }
   ],
   "source": [
    "df.head()"
   ]
  },
  {
   "cell_type": "code",
   "execution_count": 155,
   "metadata": {},
   "outputs": [
    {
     "name": "stdout",
     "output_type": "stream",
     "text": [
      "21613\n"
     ]
    },
    {
     "data": {
      "text/html": [
       "<div>\n",
       "<style scoped>\n",
       "    .dataframe tbody tr th:only-of-type {\n",
       "        vertical-align: middle;\n",
       "    }\n",
       "\n",
       "    .dataframe tbody tr th {\n",
       "        vertical-align: top;\n",
       "    }\n",
       "\n",
       "    .dataframe thead th {\n",
       "        text-align: right;\n",
       "    }\n",
       "</style>\n",
       "<table border=\"1\" class=\"dataframe\">\n",
       "  <thead>\n",
       "    <tr style=\"text-align: right;\">\n",
       "      <th></th>\n",
       "      <th>null_sum</th>\n",
       "      <th>null_pct</th>\n",
       "      <th>dtypes</th>\n",
       "      <th>count</th>\n",
       "      <th>mean</th>\n",
       "      <th>median</th>\n",
       "      <th>min</th>\n",
       "      <th>max</th>\n",
       "    </tr>\n",
       "  </thead>\n",
       "  <tbody>\n",
       "    <tr>\n",
       "      <th>bathrooms</th>\n",
       "      <td>0</td>\n",
       "      <td>0.0</td>\n",
       "      <td>float64</td>\n",
       "      <td>21613</td>\n",
       "      <td>2.114757e+00</td>\n",
       "      <td>2.250000e+00</td>\n",
       "      <td>0</td>\n",
       "      <td>8</td>\n",
       "    </tr>\n",
       "    <tr>\n",
       "      <th>bedrooms</th>\n",
       "      <td>0</td>\n",
       "      <td>0.0</td>\n",
       "      <td>int64</td>\n",
       "      <td>21613</td>\n",
       "      <td>3.370842e+00</td>\n",
       "      <td>3.000000e+00</td>\n",
       "      <td>0</td>\n",
       "      <td>33</td>\n",
       "    </tr>\n",
       "    <tr>\n",
       "      <th>condition</th>\n",
       "      <td>0</td>\n",
       "      <td>0.0</td>\n",
       "      <td>int64</td>\n",
       "      <td>21613</td>\n",
       "      <td>3.409430e+00</td>\n",
       "      <td>3.000000e+00</td>\n",
       "      <td>1</td>\n",
       "      <td>5</td>\n",
       "    </tr>\n",
       "    <tr>\n",
       "      <th>date</th>\n",
       "      <td>0</td>\n",
       "      <td>0.0</td>\n",
       "      <td>object</td>\n",
       "      <td>21613</td>\n",
       "      <td>NaN</td>\n",
       "      <td>NaN</td>\n",
       "      <td>20140502T000000</td>\n",
       "      <td>20150527T000000</td>\n",
       "    </tr>\n",
       "    <tr>\n",
       "      <th>floors</th>\n",
       "      <td>0</td>\n",
       "      <td>0.0</td>\n",
       "      <td>float64</td>\n",
       "      <td>21613</td>\n",
       "      <td>1.494309e+00</td>\n",
       "      <td>1.500000e+00</td>\n",
       "      <td>1</td>\n",
       "      <td>3.5</td>\n",
       "    </tr>\n",
       "    <tr>\n",
       "      <th>grade</th>\n",
       "      <td>0</td>\n",
       "      <td>0.0</td>\n",
       "      <td>int64</td>\n",
       "      <td>21613</td>\n",
       "      <td>7.656873e+00</td>\n",
       "      <td>7.000000e+00</td>\n",
       "      <td>1</td>\n",
       "      <td>13</td>\n",
       "    </tr>\n",
       "    <tr>\n",
       "      <th>id</th>\n",
       "      <td>0</td>\n",
       "      <td>0.0</td>\n",
       "      <td>int64</td>\n",
       "      <td>21613</td>\n",
       "      <td>4.580302e+09</td>\n",
       "      <td>3.904930e+09</td>\n",
       "      <td>1000102</td>\n",
       "      <td>9900000190</td>\n",
       "    </tr>\n",
       "    <tr>\n",
       "      <th>lat</th>\n",
       "      <td>0</td>\n",
       "      <td>0.0</td>\n",
       "      <td>float64</td>\n",
       "      <td>21613</td>\n",
       "      <td>4.756005e+01</td>\n",
       "      <td>4.757180e+01</td>\n",
       "      <td>47.1559</td>\n",
       "      <td>47.7776</td>\n",
       "    </tr>\n",
       "    <tr>\n",
       "      <th>long</th>\n",
       "      <td>0</td>\n",
       "      <td>0.0</td>\n",
       "      <td>float64</td>\n",
       "      <td>21613</td>\n",
       "      <td>-1.222139e+02</td>\n",
       "      <td>-1.222300e+02</td>\n",
       "      <td>-122.519</td>\n",
       "      <td>-121.315</td>\n",
       "    </tr>\n",
       "    <tr>\n",
       "      <th>price</th>\n",
       "      <td>0</td>\n",
       "      <td>0.0</td>\n",
       "      <td>float64</td>\n",
       "      <td>21613</td>\n",
       "      <td>5.400881e+05</td>\n",
       "      <td>4.500000e+05</td>\n",
       "      <td>75000</td>\n",
       "      <td>7.7e+06</td>\n",
       "    </tr>\n",
       "    <tr>\n",
       "      <th>sqft_above</th>\n",
       "      <td>0</td>\n",
       "      <td>0.0</td>\n",
       "      <td>int64</td>\n",
       "      <td>21613</td>\n",
       "      <td>1.788391e+03</td>\n",
       "      <td>1.560000e+03</td>\n",
       "      <td>290</td>\n",
       "      <td>9410</td>\n",
       "    </tr>\n",
       "    <tr>\n",
       "      <th>sqft_basement</th>\n",
       "      <td>0</td>\n",
       "      <td>0.0</td>\n",
       "      <td>int64</td>\n",
       "      <td>21613</td>\n",
       "      <td>2.915090e+02</td>\n",
       "      <td>0.000000e+00</td>\n",
       "      <td>0</td>\n",
       "      <td>4820</td>\n",
       "    </tr>\n",
       "    <tr>\n",
       "      <th>sqft_living</th>\n",
       "      <td>0</td>\n",
       "      <td>0.0</td>\n",
       "      <td>int64</td>\n",
       "      <td>21613</td>\n",
       "      <td>2.079900e+03</td>\n",
       "      <td>1.910000e+03</td>\n",
       "      <td>290</td>\n",
       "      <td>13540</td>\n",
       "    </tr>\n",
       "    <tr>\n",
       "      <th>sqft_living15</th>\n",
       "      <td>0</td>\n",
       "      <td>0.0</td>\n",
       "      <td>int64</td>\n",
       "      <td>21613</td>\n",
       "      <td>1.986552e+03</td>\n",
       "      <td>1.840000e+03</td>\n",
       "      <td>399</td>\n",
       "      <td>6210</td>\n",
       "    </tr>\n",
       "    <tr>\n",
       "      <th>sqft_lot</th>\n",
       "      <td>0</td>\n",
       "      <td>0.0</td>\n",
       "      <td>int64</td>\n",
       "      <td>21613</td>\n",
       "      <td>1.510697e+04</td>\n",
       "      <td>7.618000e+03</td>\n",
       "      <td>520</td>\n",
       "      <td>1651359</td>\n",
       "    </tr>\n",
       "    <tr>\n",
       "      <th>sqft_lot15</th>\n",
       "      <td>0</td>\n",
       "      <td>0.0</td>\n",
       "      <td>int64</td>\n",
       "      <td>21613</td>\n",
       "      <td>1.276846e+04</td>\n",
       "      <td>7.620000e+03</td>\n",
       "      <td>651</td>\n",
       "      <td>871200</td>\n",
       "    </tr>\n",
       "    <tr>\n",
       "      <th>view</th>\n",
       "      <td>0</td>\n",
       "      <td>0.0</td>\n",
       "      <td>int64</td>\n",
       "      <td>21613</td>\n",
       "      <td>2.343034e-01</td>\n",
       "      <td>0.000000e+00</td>\n",
       "      <td>0</td>\n",
       "      <td>4</td>\n",
       "    </tr>\n",
       "    <tr>\n",
       "      <th>waterfront</th>\n",
       "      <td>0</td>\n",
       "      <td>0.0</td>\n",
       "      <td>int64</td>\n",
       "      <td>21613</td>\n",
       "      <td>7.541757e-03</td>\n",
       "      <td>0.000000e+00</td>\n",
       "      <td>0</td>\n",
       "      <td>1</td>\n",
       "    </tr>\n",
       "    <tr>\n",
       "      <th>yr_built</th>\n",
       "      <td>0</td>\n",
       "      <td>0.0</td>\n",
       "      <td>int64</td>\n",
       "      <td>21613</td>\n",
       "      <td>1.971005e+03</td>\n",
       "      <td>1.975000e+03</td>\n",
       "      <td>1900</td>\n",
       "      <td>2015</td>\n",
       "    </tr>\n",
       "    <tr>\n",
       "      <th>yr_renovated</th>\n",
       "      <td>0</td>\n",
       "      <td>0.0</td>\n",
       "      <td>int64</td>\n",
       "      <td>21613</td>\n",
       "      <td>8.440226e+01</td>\n",
       "      <td>0.000000e+00</td>\n",
       "      <td>0</td>\n",
       "      <td>2015</td>\n",
       "    </tr>\n",
       "    <tr>\n",
       "      <th>zipcode</th>\n",
       "      <td>0</td>\n",
       "      <td>0.0</td>\n",
       "      <td>int64</td>\n",
       "      <td>21613</td>\n",
       "      <td>9.807794e+04</td>\n",
       "      <td>9.806500e+04</td>\n",
       "      <td>98001</td>\n",
       "      <td>98199</td>\n",
       "    </tr>\n",
       "  </tbody>\n",
       "</table>\n",
       "</div>"
      ],
      "text/plain": [
       "               null_sum  null_pct   dtypes  count          mean        median  \\\n",
       "bathrooms             0       0.0  float64  21613  2.114757e+00  2.250000e+00   \n",
       "bedrooms              0       0.0    int64  21613  3.370842e+00  3.000000e+00   \n",
       "condition             0       0.0    int64  21613  3.409430e+00  3.000000e+00   \n",
       "date                  0       0.0   object  21613           NaN           NaN   \n",
       "floors                0       0.0  float64  21613  1.494309e+00  1.500000e+00   \n",
       "grade                 0       0.0    int64  21613  7.656873e+00  7.000000e+00   \n",
       "id                    0       0.0    int64  21613  4.580302e+09  3.904930e+09   \n",
       "lat                   0       0.0  float64  21613  4.756005e+01  4.757180e+01   \n",
       "long                  0       0.0  float64  21613 -1.222139e+02 -1.222300e+02   \n",
       "price                 0       0.0  float64  21613  5.400881e+05  4.500000e+05   \n",
       "sqft_above            0       0.0    int64  21613  1.788391e+03  1.560000e+03   \n",
       "sqft_basement         0       0.0    int64  21613  2.915090e+02  0.000000e+00   \n",
       "sqft_living           0       0.0    int64  21613  2.079900e+03  1.910000e+03   \n",
       "sqft_living15         0       0.0    int64  21613  1.986552e+03  1.840000e+03   \n",
       "sqft_lot              0       0.0    int64  21613  1.510697e+04  7.618000e+03   \n",
       "sqft_lot15            0       0.0    int64  21613  1.276846e+04  7.620000e+03   \n",
       "view                  0       0.0    int64  21613  2.343034e-01  0.000000e+00   \n",
       "waterfront            0       0.0    int64  21613  7.541757e-03  0.000000e+00   \n",
       "yr_built              0       0.0    int64  21613  1.971005e+03  1.975000e+03   \n",
       "yr_renovated          0       0.0    int64  21613  8.440226e+01  0.000000e+00   \n",
       "zipcode               0       0.0    int64  21613  9.807794e+04  9.806500e+04   \n",
       "\n",
       "                           min              max  \n",
       "bathrooms                    0                8  \n",
       "bedrooms                     0               33  \n",
       "condition                    1                5  \n",
       "date           20140502T000000  20150527T000000  \n",
       "floors                       1              3.5  \n",
       "grade                        1               13  \n",
       "id                     1000102       9900000190  \n",
       "lat                    47.1559          47.7776  \n",
       "long                  -122.519         -121.315  \n",
       "price                    75000          7.7e+06  \n",
       "sqft_above                 290             9410  \n",
       "sqft_basement                0             4820  \n",
       "sqft_living                290            13540  \n",
       "sqft_living15              399             6210  \n",
       "sqft_lot                   520          1651359  \n",
       "sqft_lot15                 651           871200  \n",
       "view                         0                4  \n",
       "waterfront                   0                1  \n",
       "yr_built                  1900             2015  \n",
       "yr_renovated                 0             2015  \n",
       "zipcode                  98001            98199  "
      ]
     },
     "execution_count": 155,
     "metadata": {},
     "output_type": "execute_result"
    }
   ],
   "source": [
    "def eda(df): \n",
    "    eda_df = {}\n",
    "    eda_df['null_sum'] = df.isnull().sum()\n",
    "    eda_df['null_pct'] = df.isnull().mean()\n",
    "    eda_df['dtypes'] = df.dtypes\n",
    "    eda_df['count'] = df.count()\n",
    "    eda_df['mean'] = df.mean()\n",
    "    eda_df['median'] = df.median()\n",
    "    eda_df['min'] = df.min()\n",
    "    eda_df['max'] = df.max()\n",
    "    return pd.DataFrame(eda_df)\n",
    "\n",
    "print(len(df))\n",
    "eda(df)"
   ]
  },
  {
   "cell_type": "code",
   "execution_count": 156,
   "metadata": {},
   "outputs": [
    {
     "data": {
      "text/plain": [
       "int64      15\n",
       "float64     5\n",
       "object      1\n",
       "dtype: int64"
      ]
     },
     "execution_count": 156,
     "metadata": {},
     "output_type": "execute_result"
    }
   ],
   "source": [
    "df.dtypes.value_counts()"
   ]
  },
  {
   "cell_type": "code",
   "execution_count": 157,
   "metadata": {},
   "outputs": [],
   "source": [
    "# get only year from date\n",
    "df['date']  = pd.to_datetime(df.date).dt.year"
   ]
  },
  {
   "cell_type": "code",
   "execution_count": 158,
   "metadata": {},
   "outputs": [
    {
     "data": {
      "text/plain": [
       "count    21613.000000\n",
       "mean      2014.322954\n",
       "std          0.467616\n",
       "min       2014.000000\n",
       "25%       2014.000000\n",
       "50%       2014.000000\n",
       "75%       2015.000000\n",
       "max       2015.000000\n",
       "Name: date, dtype: float64"
      ]
     },
     "execution_count": 158,
     "metadata": {},
     "output_type": "execute_result"
    }
   ],
   "source": [
    "df.date.describe()"
   ]
  },
  {
   "cell_type": "code",
   "execution_count": 159,
   "metadata": {},
   "outputs": [
    {
     "data": {
      "text/plain": [
       "<matplotlib.axes._subplots.AxesSubplot at 0x13a78eac700>"
      ]
     },
     "execution_count": 159,
     "metadata": {},
     "output_type": "execute_result"
    },
    {
     "data": {
      "image/png": "[encoded data removed]",
      "text/plain": [
       "<Figure size 432x288 with 1 Axes>"
      ]
     },
     "metadata": {
      "needs_background": "light"
     },
     "output_type": "display_data"
    }
   ],
   "source": [
    "# check label distribution\n",
    "sns.distplot(df.price)"
   ]
  },
  {
   "cell_type": "code",
   "execution_count": 160,
   "metadata": {},
   "outputs": [
    {
     "data": {
      "text/plain": [
       "<matplotlib.axes._subplots.AxesSubplot at 0x13a1cdf10d0>"
      ]
     },
     "execution_count": 160,
     "metadata": {},
     "output_type": "execute_result"
    },
    {
     "data": {
      "image/png": "[encoded data removed]",
      "text/plain": [
       "<Figure size 432x288 with 1 Axes>"
      ]
     },
     "metadata": {
      "needs_background": "light"
     },
     "output_type": "display_data"
    }
   ],
   "source": [
    "# check label log distribution\n",
    "sns.distplot(np.log(df.price))"
   ]
  },
  {
   "cell_type": "code",
   "execution_count": 161,
   "metadata": {},
   "outputs": [],
   "source": [
    "df.price = np.log(df.price)"
   ]
  },
  {
   "cell_type": "code",
   "execution_count": 162,
   "metadata": {},
   "outputs": [
    {
     "data": {
      "image/png": "[encoded data removed]",
      "text/plain": [
       "<Figure size 720x1440 with 2 Axes>"
      ]
     },
     "metadata": {
      "needs_background": "light"
     },
     "output_type": "display_data"
    }
   ],
   "source": [
    "price = df.price\n",
    "df = df.drop(columns=['price']) # drop and add to keep price as last column\n",
    "df['price'] = price\n",
    "correlations = df.corrwith(df['price']).iloc[:-1].to_frame()\n",
    "correlations['abs'] = correlations[0].abs()\n",
    "sorted_correlations = correlations.sort_values('abs', ascending=False)[0]\n",
    "fig, ax = plt.subplots(figsize=(10,20))\n",
    "sns.heatmap(sorted_correlations.to_frame(), cmap='coolwarm', annot=True, vmin=-1, vmax=1, ax=ax);"
   ]
  },
  {
   "cell_type": "code",
   "execution_count": 163,
   "metadata": {},
   "outputs": [],
   "source": [
    "# drop features that might confuse our model\n",
    "df = df.drop(columns=['date','id','zipcode'])"
   ]
  },
  {
   "cell_type": "markdown",
   "metadata": {},
   "source": [
    "# Model Training"
   ]
  },
  {
   "cell_type": "code",
   "execution_count": 164,
   "metadata": {},
   "outputs": [],
   "source": [
    "# create train and test data\n",
    "features = df.drop(columns=['price'])\n",
    "label= df.price\n",
    "X_train,X_test,y_train,y_test = train_test_split(features,label,random_state=0)"
   ]
  },
  {
   "cell_type": "markdown",
   "metadata": {},
   "source": [
    "## SGDRegressor"
   ]
  },
  {
   "cell_type": "code",
   "execution_count": 165,
   "metadata": {},
   "outputs": [
    {
     "data": {
      "text/plain": [
       "SGDRegressor()"
      ]
     },
     "execution_count": 165,
     "metadata": {},
     "output_type": "execute_result"
    }
   ],
   "source": [
    "# train model\n",
    "model = SGDRegressor()\n",
    "model.fit(X_train,y_train)"
   ]
  },
  {
   "cell_type": "code",
   "execution_count": 166,
   "metadata": {},
   "outputs": [
    {
     "name": "stdout",
     "output_type": "stream",
     "text": [
      "MSE:6.887681856116943e+17\n",
      "MAE:2.1501281571178867e+17\n",
      "R2:-1.7305157931194927e+36\n"
     ]
    }
   ],
   "source": [
    "# evaluate model prediction\n",
    "y_pred = model.predict(X_test)\n",
    "msquared  = mean_squared_error(y_test,y_pred)\n",
    "mabs  = mean_absolute_error(y_test,y_pred)\n",
    "r2  = r2_score(y_test,y_pred)\n",
    "print('MSE:{}'.format(np.sqrt(msquared)) )\n",
    "print('MAE:{}'.format(mabs) )\n",
    "print('R2:{}'.format(r2) )"
   ]
  },
  {
   "cell_type": "markdown",
   "metadata": {},
   "source": [
    "## Elastic Net Lasso"
   ]
  },
  {
   "cell_type": "code",
   "execution_count": 167,
   "metadata": {},
   "outputs": [
    {
     "data": {
      "text/plain": [
       "ElasticNet()"
      ]
     },
     "execution_count": 167,
     "metadata": {},
     "output_type": "execute_result"
    }
   ],
   "source": [
    "# train model\n",
    "elastic = ElasticNet()\n",
    "elastic.fit(X_train,y_train)"
   ]
  },
  {
   "cell_type": "code",
   "execution_count": 168,
   "metadata": {},
   "outputs": [
    {
     "name": "stdout",
     "output_type": "stream",
     "text": [
      "MSE:0.35692562264031075\n",
      "MAE:0.2900832979159058\n",
      "R2:0.5352869576785257\n"
     ]
    }
   ],
   "source": [
    "# evaluate model prediction\n",
    "y_pred = elastic.predict(X_test)\n",
    "msquared  = mean_squared_error(y_test,y_pred)\n",
    "mabs  = mean_absolute_error(y_test,y_pred)\n",
    "r2  = r2_score(y_test,y_pred)\n",
    "print('MSE:{}'.format(np.sqrt(msquared)) )\n",
    "print('MAE:{}'.format(mabs) )\n",
    "print('R2:{}'.format(r2) )"
   ]
  },
  {
   "cell_type": "markdown",
   "metadata": {},
   "source": [
    "## Ridge"
   ]
  },
  {
   "cell_type": "code",
   "execution_count": 169,
   "metadata": {},
   "outputs": [
    {
     "data": {
      "text/plain": [
       "Ridge()"
      ]
     },
     "execution_count": 169,
     "metadata": {},
     "output_type": "execute_result"
    }
   ],
   "source": [
    "# train model\n",
    "ridge = Ridge()\n",
    "ridge.fit(X_train,y_train)"
   ]
  },
  {
   "cell_type": "code",
   "execution_count": 170,
   "metadata": {},
   "outputs": [
    {
     "name": "stdout",
     "output_type": "stream",
     "text": [
      "MSE:0.25079875573535804\n",
      "MAE:0.19426225749870651\n",
      "R2:0.7705541723193132\n"
     ]
    }
   ],
   "source": [
    "# evaluate model prediction\n",
    "y_pred = ridge.predict(X_test)\n",
    "msquared  = mean_squared_error(y_test,y_pred)\n",
    "mabs  = mean_absolute_error(y_test,y_pred)\n",
    "r2  = r2_score(y_test,y_pred)\n",
    "print('MSE:{}'.format(np.sqrt(msquared)) )\n",
    "print('MAE:{}'.format(mabs) )\n",
    "print('R2:{}'.format(r2) )"
   ]
  },
  {
   "cell_type": "markdown",
   "metadata": {},
   "source": [
    "## Random Forest Regressor (Best Model)"
   ]
  },
  {
   "cell_type": "code",
   "execution_count": 176,
   "metadata": {},
   "outputs": [],
   "source": [
    "# train model\n",
    "rf = RandomForestRegressor()\n",
    "history = rf.fit(X_train,y_train)"
   ]
  },
  {
   "cell_type": "code",
   "execution_count": 177,
   "metadata": {},
   "outputs": [
    {
     "name": "stdout",
     "output_type": "stream",
     "text": [
      "MSE:0.17650239472233248\n",
      "MAE:0.12411003265654333\n",
      "R2:0.8863601599156434\n"
     ]
    }
   ],
   "source": [
    "# evaluate model prediction\n",
    "y_pred = rf.predict(X_test)\n",
    "msquared  = mean_squared_error(y_test,y_pred)\n",
    "mabs  = mean_absolute_error(y_test,y_pred)\n",
    "r2  = r2_score(y_test,y_pred)\n",
    "print('MSE:{}'.format(np.sqrt(msquared)) )\n",
    "print('MAE:{}'.format(mabs) )\n",
    "print('R2:{}'.format(r2) )"
   ]
  }
 ],
 "metadata": {
  "kernelspec": {
   "display_name": "Python 3",
   "language": "python",
   "name": "python3"
  },
  "language_info": {
   "codemirror_mode": {
    "name": "ipython",
    "version": 3
   },
   "file_extension": ".py",
   "mimetype": "text/x-python",
   "name": "python",
   "nbconvert_exporter": "python",
   "pygments_lexer": "ipython3",
   "version": "3.8.2"
  }
 },
 "nbformat": 4,
 "nbformat_minor": 4
}
